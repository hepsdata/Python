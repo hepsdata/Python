{
 "cells": [
  {
   "cell_type": "code",
   "execution_count": 2,
   "id": "241816c9-ec84-4d7e-a459-4f67c58bbd54",
   "metadata": {
    "vscode": {
     "languageId": "r"
    }
   },
   "outputs": [
    {
     "data": {
      "text/html": [
       "10"
      ],
      "text/latex": [
       "10"
      ],
      "text/markdown": [
       "10"
      ],
      "text/plain": [
       "[1] 10"
      ]
     },
     "metadata": {},
     "output_type": "display_data"
    }
   ],
   "source": [
    "print(\"hello\")"
   ]
  }
 ],
 "metadata": {
  "kernelspec": {
   "display_name": "R",
   "language": "R",
   "name": "ir"
  },
  "language_info": {
   "codemirror_mode": "r",
   "file_extension": ".r",
   "mimetype": "text/x-r-source",
   "name": "R",
   "pygments_lexer": "r",
   "version": "4.2.1"
  },
  "vscode": {
   "interpreter": {
    "hash": "997a63fd2c1cf178e66f5c9d5a60fb217f2eb7dd528d3f6ac4acaf84bc60f942"
   }
  }
 },
 "nbformat": 4,
 "nbformat_minor": 5
}
